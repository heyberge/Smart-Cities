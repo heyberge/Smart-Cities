{
 "cells": [
  {
   "cell_type": "markdown",
   "id": "70554f1a",
   "metadata": {},
   "source": [
    "# Dynamic Models for Building Energy Management - Report\n",
    "\n",
    "Authors: Emile HEYBERGER, Félix LABIDI, Perrine MEZIAT-BURDIN, Quentin SAMUDIO\n",
    "\n",
    "Date: 30/05/2022\n",
    "\n",
    "The notebooks can be run interactively on MyBinder.com by clicking on the button below:\n",
    "\n",
    "[![Binder](https://mybinder.org/badge_logo.svg)](https://mybinder.org/v2/gh/heyberge/Smart-Cities/HEAD)\n",
    "\n",
    "## Introduction \n",
    "\n",
    "In this lab, we worked on the thermal modelling of a building. We imagined the building and its thermal characteristics, then built its thermal network. We computed the matrices that were needed for the mathematical model, and then conducted two analyses : one in steady state and a dynamic one. Then we simulated the response to weather data and worked on the optimization of our model. \n",
    "\n",
    "\n",
    "## Contents \n",
    "\n",
    "\n",
    "    1) Description of the building\n",
    "    2) Thermal model \n",
    "    3) Elements of the thermal network\n",
    "    4) Mathematical model\n",
    "    5) Steady State Model\n",
    "    6) Dynamic Model\n",
    "    7) Response to weather data\n",
    "    8) Conclusion : optimization\n",
    "\n",
    "    \n",
    "\n",
    "\n",
    "## 1) Description of the building: \n",
    "\n",
    "-\t Drawing, dimensions and materials\n",
    "\n",
    "Our thermal study focuses on a student flat in a residence in Lyon. We simplify the flat as a 2-room flat: a living room of about 25 m2 and a bathroom of 6 m2.\n",
    "\n",
    "The plan and the model for our appartement are the following :\n",
    "\n",
    "<img src=\"plan.png\" width=\"400\"> <img src=\"surface.png\" width=\"400\">\n",
    "\n",
    "\n",
    "Each external wall are made of concrete and glass wool, while the wall separating the two rooms is made of plasterboard. The wall Sm1 is in contact with the outside, Smc with a corridor heated at 20°C and Sm3 with another appartement, but this wall is considered as perfectly isolated. Sf and Sp are respectively the windows and the doors. \n",
    "\n",
    "The following table gives the dimensions and features: \n",
    "\n",
    "<img src=\"Caracteristiques.png\" width=\"600\">\n",
    "\n",
    "-\tHypothesis\n",
    "\n",
    "To simplify the octave modeling, the following assumptions are made: \n",
    "\n",
    "- The temperature is uniform on each surface of a wall;\n",
    "- Heat transfer is unidirectional in each wall ;\n",
    "- Heat transfers with the floor and ceiling are neglected ;\n",
    "- Heat transfers are assumed to be linear;\n",
    "- The heat flows coming from the neighboring apartment is considered negligible;\n",
    "\n",
    "\n",
    "\n",
    "## 2) Thermal model\n",
    "\n",
    "We following scheme shows the thermal model we finally came up with: \n",
    "\n",
    "<img src=\"schema_maison.png\" width=\"900\">\n",
    "\n",
    "Nodes 0 and 1 are respectively representing the main room and the bathroom. The chains of resistances (for conduction and convection) and capacities represent the thermal flux through the walls, doors and windows. We also represent the solar indoor and outdoor flux by radiation, and the temperature sources of the corridor (Tcouloir) and the outside (Text). A proportional corrector is represented by a resistance linked to a targeted temperature (Tcible). \n",
    "\n",
    "We also number the nodes and resistances and the direction of the flux. \n",
    "\n",
    "## 3) Elements of the thermal network\n",
    "\n",
    "\n",
    "The thermal resistances for conduction are of the form:\n",
    "$$R_{cd} = \\frac{w}{\\lambda S}$$\n",
    "where:\n",
    "\n",
    "- $w$ is the width of the material, m;\n",
    "- $\\lambda$ - thermal conductvity, W/m K;\n",
    "- $S$ - surface area of the wall, m²\n",
    "\n",
    "The thermals resistance for convection are of the form:\n",
    "$$R_{cv} = \\frac{1}{h S}$$\n",
    "where:\n",
    "- $h$ is the convection coefficient, W/m² K;\n",
    "- $S$ - surface area of the wall, m².\n",
    "\n",
    "The thermal capacities of the wall are of the form:\n",
    "$$C_{wall}= \\rho_{wall} c_{p, wall} w_{wall} S_{wall}$$\n",
    "\n",
    "The thermal capacity of the air is:\n",
    "$$C_{air} = \\rho_{air} c_{air} V_{air}$$\n",
    "\n",
    "\n",
    "\n",
    "\n",
    "## 4) Mathematical model\n",
    "\n",
    "Using the previous formulas, we compute all the values of the thermal resistances (and associated conductances), and capacities. We can then implement the matrices A, G, C, b and f. We also implement a vector u, that is a concatenation of all the non-zero values of b and f. \n",
    "\n",
    "\n"
   ]
  },
  {
   "cell_type": "code",
   "execution_count": 15,
   "id": "5c584f86",
   "metadata": {},
   "outputs": [
    {
     "name": "stdout",
     "output_type": "stream",
     "text": [
      "Requirement already satisfied: matplotlib in /Users/emileheyberger/opt/anaconda3/lib/python3.9/site-packages (3.5.2)\n",
      "Requirement already satisfied: python-dateutil>=2.7 in /Users/emileheyberger/opt/anaconda3/lib/python3.9/site-packages (from matplotlib) (2.8.2)\n",
      "Requirement already satisfied: packaging>=20.0 in /Users/emileheyberger/opt/anaconda3/lib/python3.9/site-packages (from matplotlib) (21.3)\n",
      "Requirement already satisfied: cycler>=0.10 in /Users/emileheyberger/opt/anaconda3/lib/python3.9/site-packages (from matplotlib) (0.11.0)\n",
      "Requirement already satisfied: pillow>=6.2.0 in /Users/emileheyberger/opt/anaconda3/lib/python3.9/site-packages (from matplotlib) (9.0.1)\n",
      "Requirement already satisfied: kiwisolver>=1.0.1 in /Users/emileheyberger/opt/anaconda3/lib/python3.9/site-packages (from matplotlib) (1.4.3)\n",
      "Requirement already satisfied: numpy>=1.17 in /Users/emileheyberger/opt/anaconda3/lib/python3.9/site-packages (from matplotlib) (1.22.4)\n",
      "Requirement already satisfied: fonttools>=4.22.0 in /Users/emileheyberger/opt/anaconda3/lib/python3.9/site-packages (from matplotlib) (4.33.3)\n",
      "Requirement already satisfied: pyparsing>=2.2.1 in /Users/emileheyberger/opt/anaconda3/lib/python3.9/site-packages (from matplotlib) (3.0.4)\n",
      "Requirement already satisfied: six>=1.5 in /Users/emileheyberger/opt/anaconda3/lib/python3.9/site-packages (from python-dateutil>=2.7->matplotlib) (1.16.0)\n"
     ]
    }
   ],
   "source": [
  
    "\n",
    "import numpy as np\n",
    "import pandas as pd\n",
    "import matplotlib.pyplot as plt\n",
    "import dm4bem\n",
    "\n",
    "Text, Tcouloir=5, 20\n",
    "Tcible=22\n",
    "\n",
    "Gab,Gb,Gi ,Gia =250,275,8.75, 100\n",
    "Gap,Gp,Gpa=10,2.5E+01,10\n",
    "Gav,Gv,Gva=20,8.00E+02,8\n",
    "Gaplaco ,Gplaco ,Gplacoa =50,4.81E+02,50\n",
    "Gab2,Gb2,Gi2,Gia2=40,44,1.4,16\n",
    "Gabc,Gbc,Gic,Giac=50,137.5,4.375,50\n",
    "\n",
    "\n"
   ]
  },
  {
   "cell_type": "markdown",
   "id": "e0829532",
   "metadata": {},
   "source": [
    "### Matrice A"
   ]
  },
  {
   "cell_type": "code",
   "execution_count": 16,
   "id": "64c7015e",
   "metadata": {},
   "outputs": [
    {
     "name": "stdout",
     "output_type": "stream",
     "text": [
      "A= [[ 0.  0.  1. ...  0.  0.  0.]\n",
      " [ 0.  0. -1. ...  0.  0.  0.]\n",
      " [ 0.  0.  0. ...  0.  0.  0.]\n",
      " ...\n",
      " [ 0.  1.  0. ...  0. -1.  0.]\n",
      " [ 0.  1.  0. ...  0.  0. -1.]\n",
      " [ 1.  0.  0. ...  0.  0.  0.]]\n"
     ]
    }
   ],
   "source": [
    "A=np.zeros((39,32))\n",
    "A[30,0],A[31,0],A[32,0],A[33,0],A[34,1],A[35,1],A[36,1],A[37,1]=1,1,1,1,1,1,1,1\n",
    "A[16,0],A[27,0]=-1,-1\n",
    "I=[[0,2],[1,3],[2,4],[3,5],[5,6],[6,7],[7,8],[8,9],[10,10],[11,11],[13,12],[14,13],[16,14],[17,15],[19,16],[20,17],[22,18],[23,19],[24,20],[25,21],[27,22],[28,23]]\n",
    "A[4,24],A[9,25],A[15,27],A[18,28],A[21,29],A[26,30],A[29,31]=1,1,1,1,1,1,1\n",
    "A[38,0]=1\n",
    "\n",
    "i=0\n",
    "for k in range(8):\n",
    "    A[30+i,24+i]=-1\n",
    "    i=i+1\n",
    "    \n",
    "for k in range(len(I)):\n",
    "\n",
    "    A[I[k][0],I[k][1]]=1\n",
    "    A[I[k][0]+1,I[k][1]]=-1\n",
    "    \n",
    "print(\"A=\",np.array(A))"
   ]
  },
  {
   "cell_type": "markdown",
   "id": "485326f7",
   "metadata": {},
   "source": [
    "### MATRICE G"
   ]
  },
  {
   "cell_type": "code",
   "execution_count": 27,
   "id": "3b2593cb",
   "metadata": {},
   "outputs": [
    {
     "name": "stdout",
     "output_type": "stream",
     "text": [
      "G= [[2.50e+02 0.00e+00 0.00e+00 ... 0.00e+00 0.00e+00 0.00e+00]\n",
      " [0.00e+00 2.75e+02 0.00e+00 ... 0.00e+00 0.00e+00 0.00e+00]\n",
      " [0.00e+00 0.00e+00 2.75e+02 ... 0.00e+00 0.00e+00 0.00e+00]\n",
      " ...\n",
      " [0.00e+00 0.00e+00 0.00e+00 ... 1.60e+01 0.00e+00 0.00e+00]\n",
      " [0.00e+00 0.00e+00 0.00e+00 ... 0.00e+00 1.00e+01 0.00e+00]\n",
      " [0.00e+00 0.00e+00 0.00e+00 ... 0.00e+00 0.00e+00 1.00e-05]]\n"
     ]
    }
   ],
   "source": [
    "\n",
    "Kp=1e-5\n",
    "Gdiag=[Gab ,Gb ,Gb ,Gi ,Gi ,Gabc,Gbc,Gbc,Gic,Gic,Gav,Gv,Gva,Gap,Gp,Gp,Gaplaco ,Gplaco ,Gplaco ,Gav,Gv,Gv,Gab2,Gb2,Gb2,Gi2,Gi2,Gap,Gp,Gp,Gia, Giac, Gva,Gpa,Gplacoa, Gva,Gia2,Gpa, Kp]\n",
    "G=np.zeros((len(Gdiag),len(Gdiag)))\n",
    "\n",
    "\n",
    "for k in range(len(Gdiag)):\n",
    "     G[k,k]=Gdiag[k]\n",
    "     \n",
    "print(\"G=\",G) \n"
   ]
  },
  {
   "cell_type": "markdown",
   "id": "eb749a79",
   "metadata": {},
   "source": [
    "### MATRICE b\n"
   ]
  },
  {
   "cell_type": "code",
   "execution_count": 28,
   "id": "a3442ce8",
   "metadata": {},
   "outputs": [
    {
     "name": "stdout",
     "output_type": "stream",
     "text": [
      "b= [ 5.  0.  0.  0.  0. 20.  0.  0.  0.  0.  5.  0.  0. 20.  0.  0.  0.  0.\n",
      "  0.  5.  0.  0.  5.  0.  0.  0.  0.  0.  0.  0.  0.  0.  0.  0.  0.  0.\n",
      "  0.  0. 22.]\n"
     ]
    }
   ],
   "source": [
    "b=np.zeros(39)\n",
    "ind=[0,5,10,13,19,22,38]\n",
    "tb=[Text,Tcouloir,Text,Tcouloir,Text,Text,Tcible]\n",
    "\n",
    "for k in range(len(ind)):\n",
    "     b[ind[k]]=tb[k]\n",
    "     \n",
    "print(\"b=\",b)         \n"
   ]
  },
  {
   "cell_type": "markdown",
   "id": "5fb6de4f",
   "metadata": {},
   "source": [
    "### MATRICE f\n"
   ]
  },
  {
   "cell_type": "code",
   "execution_count": 1,
   "id": "8cd54f42",
   "metadata": {},
   "outputs": [
    {
     "ename": "NameError",
     "evalue": "name 'np' is not defined",
     "output_type": "error",
     "traceback": [
      "\u001b[0;31m---------------------------------------------------------------------------\u001b[0m",
      "\u001b[0;31mNameError\u001b[0m                                 Traceback (most recent call last)",
      "Input \u001b[0;32mIn [1]\u001b[0m, in \u001b[0;36m<cell line: 3>\u001b[0;34m()\u001b[0m\n\u001b[1;32m      1\u001b[0m ft\u001b[38;5;241m=\u001b[39m[\u001b[38;5;241m1\u001b[39m,\u001b[38;5;241m1\u001b[39m,\u001b[38;5;241m1\u001b[39m,\u001b[38;5;241m0\u001b[39m,\u001b[38;5;241m0\u001b[39m,\u001b[38;5;241m0\u001b[39m,\u001b[38;5;241m1\u001b[39m,\u001b[38;5;241m0\u001b[39m,\u001b[38;5;241m0\u001b[39m,\u001b[38;5;241m0\u001b[39m,\u001b[38;5;241m1\u001b[39m,\u001b[38;5;241m0\u001b[39m,\u001b[38;5;241m1\u001b[39m,\u001b[38;5;241m0\u001b[39m,\u001b[38;5;241m0\u001b[39m,\u001b[38;5;241m0\u001b[39m,\u001b[38;5;241m1\u001b[39m,\u001b[38;5;241m0\u001b[39m,\u001b[38;5;241m1\u001b[39m]\n\u001b[0;32m----> 3\u001b[0m f\u001b[38;5;241m=\u001b[39m\u001b[43mnp\u001b[49m\u001b[38;5;241m.\u001b[39mzeros(\u001b[38;5;241m32\u001b[39m)\n\u001b[1;32m      4\u001b[0m \u001b[38;5;28;01mfor\u001b[39;00m k \u001b[38;5;129;01min\u001b[39;00m \u001b[38;5;28mrange\u001b[39m(\u001b[38;5;241m19\u001b[39m):\n\u001b[1;32m      5\u001b[0m     f[k]\u001b[38;5;241m=\u001b[39mft[k]\n",
      "\u001b[0;31mNameError\u001b[0m: name 'np' is not defined"
     ]
    }
   ],
   "source": [
    "ft=[1,1,1,0,0,0,1,0,0,0,1,0,1,0,0,0,1,0,1]\n",
    "\n",
    "f=np.zeros(32)\n",
    "for k in range(19):\n",
    "    f[k]=ft[k]\n",
    "    \n",
    "\n",
    "print(\"f=\",f)"
   ]
  },
  {
   "cell_type": "markdown",
   "id": "320c5ce7",
   "metadata": {},
   "source": [
    "### MATRICE C\n",
    "\n"
   ]
  },
  {
   "cell_type": "code",
   "execution_count": 30,
   "id": "1d43a556",
   "metadata": {},
   "outputs": [
    {
     "name": "stdout",
     "output_type": "stream",
     "text": [
      "C= [[0. 0. 0. ... 0. 0. 0.]\n",
      " [0. 0. 0. ... 0. 0. 0.]\n",
      " [0. 0. 0. ... 0. 0. 0.]\n",
      " ...\n",
      " [0. 0. 0. ... 0. 0. 0.]\n",
      " [0. 0. 0. ... 0. 0. 0.]\n",
      " [0. 0. 0. ... 0. 0. 0.]]\n"
     ]
    }
   ],
   "source": [
    "c3,c5,c7,c9,c11,c13,c15,c17,c19,c21,c23=12960000,105000,3.22E+05,3.22E+05,2.00E+04,2.00E+04,1.61E+05,2073600,16800,6480000,52500\n",
    "\n",
    "C=np.zeros((32,32))\n",
    "Cval=[c3,c5,c7,c9,c11,c13,c15,c17,c19,c21,c23]\n",
    "for k in range(len(Cval)):\n",
    "    C[3+2*k,3+2*k]=Cval[k]\n",
    "\n",
    "print(\"C=\",C)\n"
   ]
  },
  {
   "cell_type": "markdown",
   "id": "c7ba5ba1",
   "metadata": {},
   "source": [
    "### VECTEUR u\n",
    "\n"
   ]
  },
  {
   "cell_type": "code",
   "execution_count": 31,
   "id": "cdba0800",
   "metadata": {},
   "outputs": [
    {
     "name": "stdout",
     "output_type": "stream",
     "text": [
      "u= [   5.   20.    5.   20.    5.    5.   22. 1000. 1000. 1000. 1000. 1000.\n",
      " 1000. 1000. 1000.]\n"
     ]
    }
   ],
   "source": [
    "y = np.ones(32)\n",
    "u = np.hstack([b[np.nonzero(b)], f[np.nonzero(f)]])\n",
    "print(\"u=\",u)"
   ]
  },
  {
   "cell_type": "markdown",
   "id": "6c773098",
   "metadata": {},
   "source": [
    "\n",
    "## 5) Steady State Model\n",
    "\n",
    "### Model implementation in Python\n",
    "\n",
    "We implemente the steady state model as following : \n",
    "\n",
    " \n",
    "\n"
   ]
  },
  {
   "cell_type": "code",
   "execution_count": 32,
   "id": "aa5d7742",
   "metadata": {},
   "outputs": [],
   "source": [
    "[As, Bs, Cs, Ds] = dm4bem.tc2ss(A, G, b, C, f, y)\n",
    "\n",
    "yss = (-Cs @ np.linalg.inv(As) @ Bs + Ds) @ u\n",
    "ytc = np.linalg.inv(A.T @ G @ A) @ (A.T @ G @ b + f)\n",
    "\n",
    "# print('Temperatures at the different nodes obtained with the differential-algebraic equations of the thermal circuit :')\n",
    "# print(np.array_str(yss, precision=3, suppress_small=True))\n",
    "# print('\\n Temperatures at the different nodes obtained with the state space:')\n",
    "# print(np.array_str(ytc, precision=3, suppress_small=True))\n",
    "# print(f'\\n Max error in steady-state between thermal circuit and state-space:\\\n",
    "#   {max(abs(yss - ytc)):.2e}')"
   ]
  },
  {
   "cell_type": "markdown",
   "id": "6016b4fe",
   "metadata": {},
   "source": [
    "\n",
    "\n",
    "\n",
    "### Steady-state results\n",
    "\n",
    "\n",
    "- Result for kp = 1e-5:"
   ]
  },
  {
   "cell_type": "code",
   "execution_count": 33,
   "id": "6691a48d",
   "metadata": {},
   "outputs": [
    {
     "name": "stdout",
     "output_type": "stream",
     "text": [
      "Temperatures at the different nodes obtained with the differential-algebraic equations of the thermal circuit :\n",
      "[179.235 185.529  11.725  14.203  16.681  94.551  45.442  47.421  49.4\n",
      " 111.596  39.397  39.007 141.155 149.617 182.085 182.382  91.769  92.688\n",
      "  32.49   34.754  37.017 108.161 181.483 182.382 172.421 173.792 179.235\n",
      " 158.079 182.678  93.607 179.304 183.281]\n",
      "\n",
      " Temperatures at the different nodes obtained with the state space:\n",
      "[179.235 185.529  11.725  14.203  16.681  94.551  45.442  47.421  49.4\n",
      " 111.596  39.397  39.007 141.155 149.617 182.085 182.382  91.769  92.688\n",
      "  32.49   34.754  37.017 108.161 181.483 182.382 172.421 173.792 179.235\n",
      " 158.079 182.678  93.607 179.304 183.281]\n",
      "\n",
      " Max error in steady-state between thermal circuit and state-space:\\2.39e-12\n"
     ]
    }
   ],
   "source": [
    " Kp=1e-5\n",
    "Gdiag=[Gab ,Gb ,Gb ,Gi ,Gi ,Gabc,Gbc,Gbc,Gic,Gic,Gav,Gv,Gva,Gap,Gp,Gp,Gaplaco ,Gplaco ,Gplaco ,Gav,Gv,Gv,Gab2,Gb2,Gb2,Gi2,Gi2,Gap,Gp,Gp,Gia, Giac, Gva,Gpa,Gplacoa, Gva,Gia2,Gpa, Kp]\n",
    "G=np.zeros((len(Gdiag),len(Gdiag)))\n",
    "\n",
    "\n",
    "for k in range(len(Gdiag)):\n",
    "     G[k,k]=Gdiag[k]\n",
    "[As, Bs, Cs, Ds] = dm4bem.tc2ss(A, G, b, C, f, y)\n",
    "\n",
    "yss = (-Cs @ np.linalg.inv(As) @ Bs + Ds) @ u\n",
    "ytc = np.linalg.inv(A.T @ G @ A) @ (A.T @ G @ b + f)\n",
    "\n",
    "print('Temperatures at the different nodes obtained with the differential-algebraic equations of the thermal circuit :')\n",
    "print(np.array_str(yss, precision=3, suppress_small=True))\n",
    "print('\\n Temperatures at the different nodes obtained with the state space:')\n",
    "print(np.array_str(ytc, precision=3, suppress_small=True))\n",
    "print(f'\\n Max error in steady-state between thermal circuit and state-space:\\{max(abs(yss - ytc)):.2e}')"
   ]
  },
  {
   "cell_type": "markdown",
   "id": "7619692a",
   "metadata": {},
   "source": [
    "- Result for kp=100:"
   ]
  },
  {
   "cell_type": "code",
   "execution_count": 34,
   "id": "d1805f42",
   "metadata": {},
   "outputs": [
    {
     "name": "stdout",
     "output_type": "stream",
     "text": [
      "Temperatures at the different nodes obtained with the differential-algebraic equations of the thermal circuit :\n",
      "[42.021 74.812  9.529 10.009 10.49  25.594 40.079 40.108 40.136 41.039\n",
      " 39.397 39.007 92.15  81.01  56.872 58.416 60.581 60.72  30.717 31.37\n",
      " 32.022 52.52  53.732 58.416 40.699 41.942 42.021 69.87  59.96  60.86\n",
      " 73.018 63.101]\n",
      "\n",
      " Temperatures at the different nodes obtained with the state space:\n",
      "[42.021 74.812  9.529 10.009 10.49  25.594 40.079 40.108 40.136 41.039\n",
      " 39.397 39.007 92.15  81.01  56.872 58.416 60.581 60.72  30.717 31.37\n",
      " 32.022 52.52  53.732 58.416 40.699 41.942 42.021 69.87  59.96  60.86\n",
      " 73.018 63.101]\n",
      "\n",
      " Max error in steady-state between thermal circuit and state-space:\\6.54e-13\n"
     ]
    }
   ],
   "source": [
    "Kp=100\n",
    "Gdiag=[Gab ,Gb ,Gb ,Gi ,Gi ,Gabc,Gbc,Gbc,Gic,Gic,Gav,Gv,Gva,Gap,Gp,Gp,Gaplaco ,Gplaco ,Gplaco ,Gav,Gv,Gv,Gab2,Gb2,Gb2,Gi2,Gi2,Gap,Gp,Gp,Gia, Giac, Gva,Gpa,Gplacoa, Gva,Gia2,Gpa, Kp]\n",
    "G=np.zeros((len(Gdiag),len(Gdiag)))\n",
    "\n",
    "\n",
    "for k in range(len(Gdiag)):\n",
    "     G[k,k]=Gdiag[k]\n",
    "        \n",
    "[As, Bs, Cs, Ds] = dm4bem.tc2ss(A, G, b, C, f, y)\n",
    "\n",
    "yss = (-Cs @ np.linalg.inv(As) @ Bs + Ds) @ u\n",
    "ytc = np.linalg.inv(A.T @ G @ A) @ (A.T @ G @ b + f)\n",
    "\n",
    "print('Temperatures at the different nodes obtained with the differential-algebraic equations of the thermal circuit :')\n",
    "print(np.array_str(yss, precision=3, suppress_small=True))\n",
    "print('\\n Temperatures at the different nodes obtained with the state space:')\n",
    "print(np.array_str(ytc, precision=3, suppress_small=True))\n",
    "print(f'\\n Max error in steady-state between thermal circuit and state-space:\\{max(abs(yss - ytc)):.2e}')"
   ]
  },
  {
   "cell_type": "markdown",
   "id": "39aa03c9",
   "metadata": {},
   "source": [
    "- Results for kp=1e6"
   ]
  },
  {
   "cell_type": "code",
   "execution_count": 35,
   "id": "e68297c0",
   "metadata": {},
   "outputs": [
    {
     "name": "stdout",
     "output_type": "stream",
     "text": [
      "Temperatures at the different nodes obtained with the differential-algebraic equations of the thermal circuit :\n",
      "[22.002 58.659  9.208  9.397  9.587 15.534 39.297 39.041 38.785 30.745\n",
      " 39.397 39.007 85.001 71.001 38.605 40.33  56.031 56.056 30.459 30.876\n",
      " 31.293 44.402 35.094 40.33  21.482 22.706 22.002 57.001 42.056 56.082\n",
      " 57.512 45.567]\n",
      "\n",
      " Temperatures at the different nodes obtained with the state space:\n",
      "[22.002 58.659  9.208  9.397  9.587 15.534 39.297 39.041 38.785 30.745\n",
      " 39.397 39.007 85.001 71.001 38.605 40.33  56.031 56.056 30.459 30.876\n",
      " 31.293 44.402 35.094 40.33  21.482 22.706 22.002 57.001 42.056 56.082\n",
      " 57.512 45.567]\n",
      "\n",
      " Max error in steady-state between thermal circuit and state-space:\\6.04e-13\n"
     ]
    }
   ],
   "source": [
    "Kp=1e6\n",
    "Gdiag=[Gab ,Gb ,Gb ,Gi ,Gi ,Gabc,Gbc,Gbc,Gic,Gic,Gav,Gv,Gva,Gap,Gp,Gp,Gaplaco ,Gplaco ,Gplaco ,Gav,Gv,Gv,Gab2,Gb2,Gb2,Gi2,Gi2,Gap,Gp,Gp,Gia, Giac, Gva,Gpa,Gplacoa, Gva,Gia2,Gpa, Kp]\n",
    "G=np.zeros((len(Gdiag),len(Gdiag)))\n",
    "\n",
    "\n",
    "for k in range(len(Gdiag)):\n",
    "     G[k,k]=Gdiag[k]\n",
    "        \n",
    "[As, Bs, Cs, Ds] = dm4bem.tc2ss(A, G, b, C, f, y)\n",
    "\n",
    "yss = (-Cs @ np.linalg.inv(As) @ Bs + Ds) @ u\n",
    "ytc = np.linalg.inv(A.T @ G @ A) @ (A.T @ G @ b + f)\n",
    "\n",
    "print('Temperatures at the different nodes obtained with the differential-algebraic equations of the thermal circuit :')\n",
    "print(np.array_str(yss, precision=3, suppress_small=True))\n",
    "print('\\n Temperatures at the different nodes obtained with the state space:')\n",
    "print(np.array_str(ytc, precision=3, suppress_small=True))\n",
    "print(f'\\n Max error in steady-state between thermal circuit and state-space:\\{max(abs(yss - ytc)):.2e}')"
   ]
  },
  {
   "cell_type": "markdown",
   "id": "a814f94b",
   "metadata": {},
   "source": [
    "1e6 is the limit for which the temperature at node 0 reaches the target temperature. \n",
    "\n",
    "- Results for kp=1e4:"
   ]
  },
  {
   "cell_type": "code",
   "execution_count": 36,
   "id": "20874f78",
   "metadata": {},
   "outputs": [
    {
     "name": "stdout",
     "output_type": "stream",
     "text": [
      "Temperatures at the different nodes obtained with the differential-algebraic equations of the thermal circuit :\n",
      "[22.229 58.842  9.212  9.404  9.597 15.648 39.305 39.053 38.8   30.862\n",
      " 39.397 39.007 85.082 71.115 38.812 40.535 56.082 56.109 30.462 30.882\n",
      " 31.301 44.494 35.305 40.535 21.7   22.924 22.229 57.147 42.259 56.136\n",
      " 57.687 45.766]\n",
      "\n",
      " Temperatures at the different nodes obtained with the state space:\n",
      "[22.229 58.842  9.212  9.404  9.597 15.648 39.305 39.053 38.8   30.862\n",
      " 39.397 39.007 85.082 71.115 38.812 40.535 56.082 56.109 30.462 30.882\n",
      " 31.301 44.494 35.305 40.535 21.7   22.924 22.229 57.147 42.259 56.136\n",
      " 57.687 45.766]\n",
      "\n",
      " Max error in steady-state between thermal circuit and state-space:\\6.18e-13\n"
     ]
    }
   ],
   "source": [
    "Kp=1e4\n",
    "Gdiag=[Gab ,Gb ,Gb ,Gi ,Gi ,Gabc,Gbc,Gbc,Gic,Gic,Gav,Gv,Gva,Gap,Gp,Gp,Gaplaco ,Gplaco ,Gplaco ,Gav,Gv,Gv,Gab2,Gb2,Gb2,Gi2,Gi2,Gap,Gp,Gp,Gia, Giac, Gva,Gpa,Gplacoa, Gva,Gia2,Gpa, Kp]\n",
    "G=np.zeros((len(Gdiag),len(Gdiag)))\n",
    "\n",
    "\n",
    "for k in range(len(Gdiag)):\n",
    "     G[k,k]=Gdiag[k]\n",
    "        \n",
    "[As, Bs, Cs, Ds] = dm4bem.tc2ss(A, G, b, C, f, y)\n",
    "\n",
    "yss = (-Cs @ np.linalg.inv(As) @ Bs + Ds) @ u\n",
    "ytc = np.linalg.inv(A.T @ G @ A) @ (A.T @ G @ b + f)\n",
    "\n",
    "print('Temperatures at the different nodes obtained with the differential-algebraic equations of the thermal circuit :')\n",
    "print(np.array_str(yss, precision=3, suppress_small=True))\n",
    "print('\\n Temperatures at the different nodes obtained with the state space:')\n",
    "print(np.array_str(ytc, precision=3, suppress_small=True))\n",
    "print(f'\\n Max error in steady-state between thermal circuit and state-space:\\{max(abs(yss - ytc)):.2e}')"
   ]
  },
  {
   "cell_type": "markdown",
   "id": "617e7646",
   "metadata": {},
   "source": [
    "This value of Kp is the one that will be kept for the following analyses. Indeed, the difference at the target temperature remains minimal (we reach 21.984°C, which is satisfactory), and we limit the value of the gain.\n",
    " At node 1 (bathroom), the temperature reached is 18.7°C\n",
    "\n",
    "\n",
    "We also note the very small difference between the two models in all the different cases.\n",
    "\n",
    "\n",
    "## 6) Dynamic Model\n",
    "\n",
    "### Implementation in Python\n",
    "\n",
    "We implemente the dynamic model as following : \n",
    "\n",
    "\n"
   ]
  },
  {
   "cell_type": "code",
   "execution_count": 37,
   "id": "46373055",
   "metadata": {},
   "outputs": [
    {
     "data": {
      "image/png": "[encoded data removed]",
      "text/plain": [
       "<Figure size 432x288 with 1 Axes>"
      ]
     },
     "metadata": {
      "needs_background": "light"
     },
     "output_type": "display_data"
    }
   ],
   "source": [
    "#we build a new vector y, which allows to isolate only the temperature at one node\n",
    "y = np.zeros(32)\n",
    "node_wanted = 1\n",
    "y[node_wanted] = 1\n",
    "# then we must recalculate the matrixes of the state space system, as they depend on y\n",
    "[As, Bs, Cs, Ds] = dm4bem.tc2ss(A, G, b, C, f, y)\n",
    "\n",
    "\n",
    "dtmax = min(-2. / np.linalg.eig(As)[0])  # we obtain dtmax=1453.9\n",
    "dt = 1000 # we take dt<dtmax\n",
    "duration = 3600 * 24 * 5 \n",
    "n = int(np.floor(duration / dt))\n",
    "t = np.arange(0, n * dt, dt)    # time\n",
    "n_tC = As.shape[0]              # no of state variables \n",
    "\n",
    "u = np.ones([15, n])\n",
    "u[0:1, :] = Text*np.ones([1, n])\n",
    "u[1:2, :] = Tcouloir*np.ones([1, n])\n",
    "u[2:3, :] = Text*np.ones([1, n])\n",
    "u[3:4, :] = Tcouloir*np.ones([1, n])\n",
    "u[4:5, :] = Text*np.ones([1, n])\n",
    "u[5:6, :] = Text*np.ones([1, n])\n",
    "u[6:7, :] = Tcible*np.ones([1, n])\n",
    "\n",
    "temp_exp = np.zeros([n_tC, t.shape[0]]) #Euler forward \n",
    "temp_imp = np.zeros([n_tC, t.shape[0]]) #Euler backward\n",
    "\n",
    "I = np.eye(n_tC)\n",
    "for k in range(n - 1):\n",
    "    temp_exp[:, k + 1] = (I + dt * As) @\\\n",
    "        temp_exp[:, k] + dt * Bs @ u[:, k]\n",
    "    temp_imp[:, k + 1] = np.linalg.inv(I - dt * As) @\\\n",
    "        (temp_imp[:, k] + dt * Bs @ u[:, k])\n",
    "\n",
    "y_exp = Cs @ temp_exp + Ds @  u\n",
    "y_imp = Cs @ temp_imp + Ds @  u\n",
    "\n",
    "\n",
    "fig, ax = plt.subplots()\n",
    "ax.plot(t / 3600, y_exp.T, t / 3600, y_imp.T)\n",
    "ax.set(xlabel='Time [h]',\n",
    "        ylabel='$T_i$ [°C]',\n",
    "        title='Step input: Text = 5°C and Tcouloir=20°C')\n",
    "plt.show()\n",
    "\n"
   ]
  },
  {
   "cell_type": "markdown",
   "id": "58831057",
   "metadata": {},
   "source": [
    "### Results\n",
    "\n",
    "The following graph shows the evolution of the temperature at node 0 (main room): \n",
    "\n",
    "<img src=\"dynamic.png\" width=\"500\">\n",
    "\n",
    "We arrive at the target temperature of 22°C (with the same deviation as observed earlier, due to the limitation of the value of Kp to 1e4)\n",
    "There is very little difference between the solution with implicit Euler and the one with explicit Euler (the two curves are almost superimposed). \n",
    "\n",
    "The following graph shows the evolution of the temperature at node 1 (bathroom): it stabilises at 18.3°C. \n",
    "\n",
    "<img src=\"dynamic_N1.png\" width=\"500\">\n",
    "\n",
    "## 7) Response to weather data\n",
    "\n",
    "### Implementation in Python\n",
    "\n",
    "We implement a last version of the model, taking into account the variations of the weather. \n",
    "\n"
   ]
  },
  {
   "cell_type": "code",
   "execution_count": 50,
   "id": "72857106",
   "metadata": {},
   "outputs": [
    {
     "data": {
      "image/png": "[encoded data removed]",
      "text/plain": [
       "<Figure size 432x288 with 2 Axes>"
      ]
     },
     "metadata": {
      "needs_background": "light"
     },
     "output_type": "display_data"
    }
   ],
   "source": [
    "## Weather data\n",
    "\n",
    "filename = 'FRA_Lyon.074810_IWEC.epw'\n",
    "start_date = '2000-01-03 12:00:00'\n",
    "end_date = '2000-02-05 18:00:00'\n",
    "\n",
    "\n",
    "[data, meta] = dm4bem.read_epw(filename, coerce_year=None)\n",
    "weather = data[[\"temp_air\", \"dir_n_rad\", \"dif_h_rad\"]]\n",
    "del data\n",
    "weather.index = weather.index.map(lambda t: t.replace(year=2000))\n",
    "weather = weather[(weather.index >= start_date) & (weather.index < end_date)]\n",
    "\n",
    "\n",
    "surface_orientation = {'slope': 90,'azimuth': 0,'latitude': 45}\n",
    "albedo = 0.3 #concrete \n",
    "rad_surf1 = dm4bem.sol_rad_tilt_surf(weather, surface_orientation, albedo)\n",
    "rad_surf1['Φt1'] = rad_surf1.sum(axis=1)\n",
    "##\n",
    "data = pd.concat([weather['temp_air'], rad_surf1['Φt1']], axis=1)\n",
    "data = data.resample(str(dt) + 'S').interpolate(method='linear')\n",
    "data = data.rename(columns={'temp_air': 'Text'})\n",
    "\n",
    "data['Tcible'] = Tcible * np.ones(data.shape[0])\n",
    "data['Tcouloir'] = Tcouloir * np.ones(data.shape[0])\n",
    "\n",
    "\n",
    "t = dt * np.arange(data.shape[0])\n",
    "\n",
    "ε_wLW = 0.9     # long wave wall emmisivity (concrete)\n",
    "α_wSW = 0.2     # absortivity white surface\n",
    "ε_gLW = 0.9     # long wave glass emmisivity (glass pyrex)\n",
    "τ_gSW = 0.83    # short wave glass transmitance (glass)\n",
    "α_gSW = 0.1     # short wave glass absortivity\n",
    "Sm1 = 25\n",
    "Sf = 2\n",
    "\n",
    "phi_out= α_wSW * Sm1 * data['Φt1']       \n",
    "phi_in=τ_gSW * α_wSW * Sf * data['Φt1']\n",
    "\n",
    "u = pd.concat([data['Text'],data['Tcouloir'], data['Text'],data['Tcouloir'], data['Text'],data['Text'], data['Tcible'],phi_in,phi_in,phi_out,phi_out,phi_out,phi_out,phi_out,phi_out], axis=1)\n",
    "\n",
    "temp_exp = 20 * np.ones([As.shape[0], u.shape[0]])\n",
    "\n",
    "for k in range(u.shape[0] - 1):\n",
    "    temp_exp[:, k + 1] = (I + dt * As) @ temp_exp[:, k]\\\n",
    "            + dt * Bs @ u.iloc[k, :]\n",
    "##\n",
    "y_exp = Cs @ temp_exp + Ds @ u.to_numpy().T\n",
    "q_HVAC = Kp * (data['Tcible'] - y_exp[0, :])\n",
    "\n",
    "fig, axs = plt.subplots(2, 1)\n",
    "# plot indoor and outdoor temperature\n",
    "axs[0].plot(t / 3600, y_exp[0, :], label='$T_{indoor}$')\n",
    "axs[0].plot(t / 3600, data['Text'], label='$T_{outdoor}$')\n",
    "axs[0].set(xlabel='Time [h]',\n",
    "ylabel='Temperatures [°C]',\n",
    "title='Simulation for weather')\n",
    "axs[0].legend(loc='upper right')\n",
    "\n",
    "# plot total solar radiation and HVAC heat flow\n",
    "axs[1].plot(t / 3600, q_HVAC, label='$q_{HVAC}$')\n",
    "axs[1].plot(t / 3600, data['Φt1'], label='$Φ_{total}$')\n",
    "axs[1].set(xlabel='Time [h]',\n",
    "ylabel='Heat flows [W]')\n",
    "axs[1].legend(loc='upper right')\n",
    "\n",
    "fig.tight_layout()\n",
    "\n"
   ]
  },
  {
   "cell_type": "markdown",
   "id": "8b3ba519",
   "metadata": {},
   "source": [
    "### Results\n",
    "\n",
    "Here are the curves be obtained : \n",
    "\n",
    "<img src=\"weather.png\" width=\"500\">\n",
    "\n",
    "There must be a problem with the code, as the curves of indoor and outdoor temperatures should not be the same. \n",
    "\n",
    "\n",
    "\n",
    "## 8) Conclusion : optimization \n",
    "\n",
    "As a conclusion, we can say that this lab allowed us to understand and practise the thermal modeling of buildings. The model we built, however, isn’t perfect. We could have optimized it by adding a second controller in the bathroom, with a second targeted temperature. It would also have been interesting to compare with other materials and thicknesses. \n",
    "\n",
    "\n"
   ]
  }
 ],
 "metadata": {
  "kernelspec": {
   "display_name": "Python 3 (ipykernel)",
   "language": "python",
   "name": "python3"
  },
  "language_info": {
   "codemirror_mode": {
    "name": "ipython",
    "version": 3
   },
   "file_extension": ".py",
   "mimetype": "text/x-python",
   "name": "python",
   "nbconvert_exporter": "python",
   "pygments_lexer": "ipython3",
   "version": "3.9.12"
  }
 },
 "nbformat": 4,
 "nbformat_minor": 5
}
