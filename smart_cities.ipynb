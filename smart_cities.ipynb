{
 "cells": [
  {
   "attachments": {},
   "cell_type": "markdown",
   "id": "70554f1a",
   "metadata": {},
   "source": [
    "# Dynamic Models for Building Energy Management - Report\n",
    "\n",
    "Authors: Emile HEYBERGER, Félix LABIDI, Perrine MEZIAT-BURDIN, Quentin SAMUDIO\n",
    "\n",
    "Date: 30/05/2022\n",
    "\n",
    "The notebooks can be run interactively on MyBinder.com by clicking on the button below:\n",
    "\n",
    "[![Binder](https://mybinder.org/badge_logo.svg)](https://mybinder.org/v2/gh/heyberge/Smart-Cities/HEAD)\n",
    "\n",
    "## Introduction \n",
    "\n",
    "In this lab, we worked on the thermal modelling of a building. We imagined the building and its thermal characteristics, then built its thermal network. We computed the matrices that were needed for the mathematical model, and then conducted two analyses : one in steady state and a dynamic one. Then we simulated the response to weather data and worked on the optimization of our model. \n",
    "\n",
    "\n",
    "## Contents \n",
    "\n",
    "\n",
    "    1) Description of the building\n",
    "2) Thermal model \n",
    "    3) Elements of the thermal network\n",
    "    4) Mathematical model\n",
    "    5) Steady State Model\n",
    "    6) Dynamic Model\n",
    "7) Reponse to weather data\n",
    "    8) Description of the building\n",
    "\n",
    "    \n",
    "\n",
    "\n",
    "## 1) Description of the building: \n",
    "\n",
    "-\t Drawing, dimensions and materials\n",
    "\n",
    "Our thermal study focuses on a student flat in a residence in Lyon. We simplify the flat as a 2-room flat: a living room of about 25 m2 and a bathroom of 6 m2.\n",
    "\n",
    "The plan and the model for our appartement are the following :\n",
    "\n",
    "<img src=\"plan.png\" width=\"400\"> <img src=\"surface.png\" width=\"400\">\n",
    "\n",
    "\n",
    "Each external wall are made of concrete and glass wool, while the wall separating the two rooms is made of plasterboard. The wall Sm1 is in contact with the outside, Smc with a corridor heated at 20°C and Sm3 with another appartement, but this wall is considered as perfectly isolated. Sf and Sp are respectively the windows and the doors. \n",
    "\n",
    "The following table gives the dimensions and features: \n",
    "\n",
    "<img src=\"Caracteristiques.png\" width=\"600\">\n",
    "\n",
    "-\tHypothesis\n",
    "\n",
    "To simplify the octave modelling, the following assumptions are made: \n",
    "\n",
    "‣ The temperature is uniform on each surface of a wall;\n",
    "‣ Heat transfer is unidirectional in each wall ;\n",
    "‣ Heat transfers with the floor and ceiling are neglected ;\n",
    "‣ Heat transfers are assumed to be linear;\n",
    "‣ The heat flows coming from the neighbouring appartement is\n",
    "considered negligible;\n",
    "\n",
    "\n",
    "## 2) Thermal model\n",
    "\n",
    "We following scheme shows the thermal model we finally came up with: \n",
    "\n",
    "<img src=\"schema_maison.png\" width=\"900\">\n",
    "\n",
    "Nodes 0 and 1 are respectively representing the main room and the bathroom. The chains of resistances (for conduction and convection) and capacities represent the thermal flux through the walls, doors and windows. We also represent the solar indoor and outdoor flux by radiation, and the temperature sources of the corridor (Tcouloir) and the outside (Text). A proportional corrector is represented by a resistance linked to a targeted temperature (Tcible). \n",
    "\n",
    "We also number the nodes and resistances and the direction of the flux. \n",
    "\n",
    "## 3) Elements of the thermal network\n",
    "\n",
    "\n",
    "The thermal resistances for conduction are of the form:\n",
    "$$R_{cd} = \\frac{w}{\\lambda S}$$\n",
    "where:\n",
    "\n",
    "- $w$ is the width of the material, m;\n",
    "- $\\lambda$ - thermal conductvity, W/m K;\n",
    "- $S$ - surface area of the wall, m²\n",
    "\n",
    "The thermals resistance for convection are of the form:\n",
    "$$R_{cv} = \\frac{1}{h S}$$\n",
    "where:\n",
    "- $h$ is the convection coefficient, W/m² K;\n",
    "- $S$ - surface area of the wall, m².\n",
    "\n",
    "The thermal capacities of the wall are of the form:\n",
    "$$C_{wall}= \\rho_{wall} c_{p, wall} w_{wall} S_{wall}$$\n",
    "\n",
    "The thermal capacity of the air is:\n",
    "$$C_{air} = \\rho_{air} c_{air} V_{air}$$\n",
    "\n",
    "\n",
    "\n",
    "## 4) Mathematical model\n",
    "\n",
    "Using the previous formulas, we compute all the values of the thermal resistances (and associated conductances), and capacities. We can then implement the matrices A, G, C, b and f. We also implement a vector u, that is a concatenation of all the non-zero values of b and f. \n",
    "\n",
    "\n"
   ]
  },
  {
   "cell_type": "code",
   "execution_count": 17,
   "id": "5c584f86",
   "metadata": {},
   "outputs": [],
   "source": [
    "import numpy as np\n",
    "import pandas as pd\n",
    "import matplotlib.pyplot as plt\n",
    "import dm4bem\n",
    "\n",
    "Text, Tcouloir=5, 20\n",
    "Tcible=22\n",
    "\n",
    "Gab,Gb,Gi ,Gia =250,275,8.75, 100\n",
    "Gap,Gp,Gpa=10,2.5E+01,10\n",
    "Gav,Gv,Gva=20,8.00E+02,8\n",
    "Gaplaco ,Gplaco ,Gplacoa =50,4.81E+02,50\n",
    "Gab2,Gb2,Gi2,Gia2=40,44,1.4,16\n",
    "Gabc,Gbc,Gic,Giac=50,137.5,4.375,50"
   ]
  },
  {
   "cell_type": "markdown",
   "id": "e0829532",
   "metadata": {},
   "source": [
    "### Matrice A"
   ]
  },
  {
   "cell_type": "code",
   "execution_count": 7,
   "id": "64c7015e",
   "metadata": {},
   "outputs": [
    {
     "name": "stdout",
     "output_type": "stream",
     "text": [
      "A= [[ 0.  0.  1. ...  0.  0.  0.]\n",
      " [ 0.  0. -1. ...  0.  0.  0.]\n",
      " [ 0.  0.  0. ...  0.  0.  0.]\n",
      " ...\n",
      " [ 0.  1.  0. ...  0. -1.  0.]\n",
      " [ 0.  1.  0. ...  0.  0. -1.]\n",
      " [ 1.  0.  0. ...  0.  0.  0.]]\n"
     ]
    }
   ],
   "source": [
    "A=np.zeros((39,32))\n",
    "A[30,0],A[31,0],A[32,0],A[33,0],A[34,1],A[35,1],A[36,1],A[37,1]=1,1,1,1,1,1,1,1\n",
    "A[16,0],A[27,0]=-1,-1\n",
    "I=[[0,2],[1,3],[2,4],[3,5],[5,6],[6,7],[7,8],[8,9],[10,10],[11,11],[13,12],[14,13],[16,14],[17,15],[19,16],[20,17],[22,18],[23,19],[24,20],[25,21],[27,22],[28,23]]\n",
    "A[4,24],A[9,25],A[15,27],A[18,28],A[21,29],A[26,30],A[29,31]=1,1,1,1,1,1,1\n",
    "A[38,0]=1\n",
    "\n",
    "i=0\n",
    "for k in range(8):\n",
    "    A[30+i,24+i]=-1\n",
    "    i=i+1\n",
    "    \n",
    "for k in range(len(I)):\n",
    "\n",
    "    A[I[k][0],I[k][1]]=1\n",
    "    A[I[k][0]+1,I[k][1]]=-1\n",
    "    \n",
    "print(\"A=\",np.array(A))"
   ]
  },
  {
   "cell_type": "markdown",
   "id": "485326f7",
   "metadata": {},
   "source": [
    "### MATRICE G"
   ]
  },
  {
   "cell_type": "code",
   "execution_count": 9,
   "id": "3b2593cb",
   "metadata": {},
   "outputs": [
    {
     "name": "stdout",
     "output_type": "stream",
     "text": [
      "G= [[2.50e+02 0.00e+00 0.00e+00 ... 0.00e+00 0.00e+00 0.00e+00]\n",
      " [0.00e+00 2.75e+02 0.00e+00 ... 0.00e+00 0.00e+00 0.00e+00]\n",
      " [0.00e+00 0.00e+00 2.75e+02 ... 0.00e+00 0.00e+00 0.00e+00]\n",
      " ...\n",
      " [0.00e+00 0.00e+00 0.00e+00 ... 1.60e+01 0.00e+00 0.00e+00]\n",
      " [0.00e+00 0.00e+00 0.00e+00 ... 0.00e+00 1.00e+01 0.00e+00]\n",
      " [0.00e+00 0.00e+00 0.00e+00 ... 0.00e+00 0.00e+00 1.00e-05]]\n"
     ]
    }
   ],
   "source": [
    "\n",
    "Kp=1e-5\n",
    "Gdiag=[Gab ,Gb ,Gb ,Gi ,Gi ,Gabc,Gbc,Gbc,Gic,Gic,Gav,Gv,Gva,Gap,Gp,Gp,Gaplaco ,Gplaco ,Gplaco ,Gav,Gv,Gv,Gab2,Gb2,Gb2,Gi2,Gi2,Gap,Gp,Gp,Gia, Giac, Gva,Gpa,Gplacoa, Gva,Gia2,Gpa, Kp]\n",
    "G=np.zeros((len(Gdiag),len(Gdiag)))\n",
    "\n",
    "\n",
    "for k in range(len(Gdiag)):\n",
    "     G[k,k]=Gdiag[k]\n",
    "     \n",
    "print(\"G=\",G) \n"
   ]
  },
  {
   "cell_type": "markdown",
   "id": "eb749a79",
   "metadata": {},
   "source": [
    "### MATRICE b\n"
   ]
  },
  {
   "cell_type": "code",
   "execution_count": 10,
   "id": "a3442ce8",
   "metadata": {},
   "outputs": [
    {
     "name": "stdout",
     "output_type": "stream",
     "text": [
      "b= [ 5.  0.  0.  0.  0. 20.  0.  0.  0.  0.  5.  0.  0. 20.  0.  0.  0.  0.\n",
      "  0.  5.  0.  0.  5.  0.  0.  0.  0.  0.  0.  0.  0.  0.  0.  0.  0.  0.\n",
      "  0.  0. 22.]\n"
     ]
    }
   ],
   "source": [
    "b=np.zeros(39)\n",
    "ind=[0,5,10,13,19,22,38]\n",
    "tb=[Text,Tcouloir,Text,Tcouloir,Text,Text,Tcible]\n",
    "\n",
    "for k in range(len(ind)):\n",
    "     b[ind[k]]=tb[k]\n",
    "     \n",
    "print(\"b=\",b)         \n"
   ]
  },
  {
   "cell_type": "markdown",
   "id": "5fb6de4f",
   "metadata": {},
   "source": [
    "### MATRICE f\n"
   ]
  },
  {
   "cell_type": "code",
   "execution_count": 11,
   "id": "8cd54f42",
   "metadata": {},
   "outputs": [
    {
     "name": "stdout",
     "output_type": "stream",
     "text": [
      "f= [1000. 1000. 1000.    0.    0.    0. 1000.    0.    0.    0. 1000.    0.\n",
      " 1000.    0.    0.    0. 1000.    0. 1000.    0.    0.    0.    0.    0.\n",
      "    0.    0.    0.    0.    0.    0.    0.    0.]\n"
     ]
    }
   ],
   "source": [
    "ft=[1000,1000,1000,0,0,0,1000,0,0,0,1000,0,1000,0,0,0,1000,0,1000]\n",
    "\n",
    "f=np.zeros(32)\n",
    "for k in range(19):\n",
    "    f[k]=ft[k]\n",
    "    \n",
    "\n",
    "print(\"f=\",f)"
   ]
  },
  {
   "cell_type": "markdown",
   "id": "320c5ce7",
   "metadata": {},
   "source": [
    "### MATRICE C\n",
    "\n"
   ]
  },
  {
   "cell_type": "code",
   "execution_count": 12,
   "id": "1d43a556",
   "metadata": {},
   "outputs": [
    {
     "name": "stdout",
     "output_type": "stream",
     "text": [
      "C= [[0. 0. 0. ... 0. 0. 0.]\n",
      " [0. 0. 0. ... 0. 0. 0.]\n",
      " [0. 0. 0. ... 0. 0. 0.]\n",
      " ...\n",
      " [0. 0. 0. ... 0. 0. 0.]\n",
      " [0. 0. 0. ... 0. 0. 0.]\n",
      " [0. 0. 0. ... 0. 0. 0.]]\n"
     ]
    }
   ],
   "source": [
    "c3,c5,c7,c9,c11,c13,c15,c17,c19,c21,c23=12960000,105000,3.22E+05,3.22E+05,2.00E+04,2.00E+04,1.61E+05,2073600,16800,6480000,52500\n",
    "\n",
    "C=np.zeros((32,32))\n",
    "Cval=[c3,c5,c7,c9,c11,c13,c15,c17,c19,c21,c23]\n",
    "for k in range(len(Cval)):\n",
    "    C[3+2*k,3+2*k]=Cval[k]\n",
    "\n",
    "print(\"C=\",C)\n"
   ]
  },
  {
   "cell_type": "markdown",
   "id": "c7ba5ba1",
   "metadata": {},
   "source": [
    "### VECTEUR u\n",
    "\n"
   ]
  },
  {
   "cell_type": "code",
   "execution_count": 13,
   "id": "cdba0800",
   "metadata": {},
   "outputs": [
    {
     "name": "stdout",
     "output_type": "stream",
     "text": [
      "u= [   5.   20.    5.   20.    5.    5.   22. 1000. 1000. 1000. 1000. 1000.\n",
      " 1000. 1000. 1000.]\n"
     ]
    }
   ],
   "source": [
    "y = np.ones(32)\n",
    "u = np.hstack([b[np.nonzero(b)], f[np.nonzero(f)]])\n",
    "print(\"u=\",u)"
   ]
  },
  {
   "cell_type": "markdown",
   "id": "6c773098",
   "metadata": {},
   "source": [
    "\n",
    "## 5) Steady State Model\n",
    "\n",
    "### Model implementation in Python\n",
    "\n",
    "We implemente the steady state model as following : \n",
    "\n",
    "### STEADY STATE \n",
    "\n"
   ]
  },
  {
   "cell_type": "code",
   "execution_count": 15,
   "id": "3a1a9993",
   "metadata": {},
   "outputs": [],
   "source": [
    "[As, Bs, Cs, Ds] = dm4bem.tc2ss(A, G, b, C, f, y)\n",
    "\n",
    "yss = (-Cs @ np.linalg.inv(As) @ Bs + Ds) @ u\n",
    "ytc = np.linalg.inv(A.T @ G @ A) @ (A.T @ G @ b + f)\n",
    "\n",
    "# print('Temperatures at the different nodes obtained with the differential-algebraic equations of the thermal circuit :')\n",
    "# print(np.array_str(yss, precision=3, suppress_small=True))\n",
    "# print('\\n Temperatures at the different nodes obtained with the state space:')\n",
    "# print(np.array_str(ytc, precision=3, suppress_small=True))\n",
    "# print(f'\\n Max error in steady-state between thermal circuit and state-space:\\\n",
    "#   {max(abs(yss - ytc)):.2e}')"
   ]
  },
  {
   "cell_type": "markdown",
   "id": "543cd05b",
   "metadata": {},
   "source": [
    "\n",
    "\n",
    "\n",
    "### Steady-state results\n",
    "\n",
    "\n",
    "- Result for kp = 1e-5:"
   ]
  },
  {
   "cell_type": "code",
   "execution_count": 14,
   "id": "6691a48d",
   "metadata": {},
   "outputs": [
    {
     "name": "stdout",
     "output_type": "stream",
     "text": [
      "Temperatures at the different nodes obtained with the differential-algebraic equations of the thermal circuit :\n",
      "[179.235 185.529  11.725  14.203  16.681  94.551  45.442  47.421  49.4\n",
      " 111.596  39.397  39.007 141.155 149.617 182.085 182.382  91.769  92.688\n",
      "  32.49   34.754  37.017 108.161 181.483 182.382 172.421 173.792 179.235\n",
      " 158.079 182.678  93.607 179.304 183.281]\n",
      "\n",
      " Temperatures at the different nodes obtained with the state space:\n",
      "[179.235 185.529  11.725  14.203  16.681  94.551  45.442  47.421  49.4\n",
      " 111.596  39.397  39.007 141.155 149.617 182.085 182.382  91.769  92.688\n",
      "  32.49   34.754  37.017 108.161 181.483 182.382 172.421 173.792 179.235\n",
      " 158.079 182.678  93.607 179.304 183.281]\n",
      "\n",
      " Max error in steady-state between thermal circuit and state-space:\\2.39e-12\n"
     ]
    }
   ],
   "source": [
    " Kp=1e-5\n",
    "Gdiag=[Gab ,Gb ,Gb ,Gi ,Gi ,Gabc,Gbc,Gbc,Gic,Gic,Gav,Gv,Gva,Gap,Gp,Gp,Gaplaco ,Gplaco ,Gplaco ,Gav,Gv,Gv,Gab2,Gb2,Gb2,Gi2,Gi2,Gap,Gp,Gp,Gia, Giac, Gva,Gpa,Gplacoa, Gva,Gia2,Gpa, Kp]\n",
    "G=np.zeros((len(Gdiag),len(Gdiag)))\n",
    "\n",
    "\n",
    "for k in range(len(Gdiag)):\n",
    "     G[k,k]=Gdiag[k]\n",
    "[As, Bs, Cs, Ds] = dm4bem.tc2ss(A, G, b, C, f, y)\n",
    "\n",
    "yss = (-Cs @ np.linalg.inv(As) @ Bs + Ds) @ u\n",
    "ytc = np.linalg.inv(A.T @ G @ A) @ (A.T @ G @ b + f)\n",
    "\n",
    "print('Temperatures at the different nodes obtained with the differential-algebraic equations of the thermal circuit :')\n",
    "print(np.array_str(yss, precision=3, suppress_small=True))\n",
    "print('\\n Temperatures at the different nodes obtained with the state space:')\n",
    "print(np.array_str(ytc, precision=3, suppress_small=True))\n",
    "print(f'\\n Max error in steady-state between thermal circuit and state-space:\\{max(abs(yss - ytc)):.2e}')"
   ]
  },
  {
   "cell_type": "markdown",
   "id": "7619692a",
   "metadata": {},
   "source": [
    "- Result for kp= kp = 100:"
   ]
  },
  {
   "cell_type": "code",
   "execution_count": 30,
   "id": "d1805f42",
   "metadata": {},
   "outputs": [
    {
     "name": "stdout",
     "output_type": "stream",
     "text": [
      "Temperatures at the different nodes obtained with the differential-algebraic equations of the thermal circuit :\n",
      "[20.58  17.612  5.253  5.48   5.707 12.832 20.042 20.05  20.058 20.308\n",
      "  3.617  3.582 20.271 20.34  19.236 19.096  8.588  8.677  5.227  5.41\n",
      "  5.593 11.35  19.52  19.096 19.957 20.558 20.58  20.409 18.956  8.765\n",
      " 17.108 18.672]\n",
      "\n",
      " Temperatures at the different nodes obtained with the state space:\n",
      "[20.58  17.612  5.253  5.48   5.707 12.832 20.042 20.05  20.058 20.308\n",
      "  3.617  3.582 20.271 20.34  19.236 19.096  8.588  8.677  5.227  5.41\n",
      "  5.593 11.35  19.52  19.096 19.957 20.558 20.58  20.409 18.956  8.765\n",
      " 17.108 18.672]\n",
      "\n",
      " Max error in steady-state between thermal circuit and state-space:\\9.41e-14\n"
     ]
    }
   ],
   "source": [
    "Kp=100\n",
    "Gdiag=[Gab ,Gb ,Gb ,Gi ,Gi ,Gabc,Gbc,Gbc,Gic,Gic,Gav,Gv,Gva,Gap,Gp,Gp,Gaplaco ,Gplaco ,Gplaco ,Gav,Gv,Gv,Gab2,Gb2,Gb2,Gi2,Gi2,Gap,Gp,Gp,Gia, Giac, Gva,Gpa,Gplacoa, Gva,Gia2,Gpa, Kp]\n",
    "G=np.zeros((len(Gdiag),len(Gdiag)))\n",
    "\n",
    "\n",
    "for k in range(len(Gdiag)):\n",
    "     G[k,k]=Gdiag[k]\n",
    "        \n",
    "[As, Bs, Cs, Ds] = dm4bem.tc2ss(A, G, b, C, f, y)\n",
    "\n",
    "yss = (-Cs @ np.linalg.inv(As) @ Bs + Ds) @ u\n",
    "ytc = np.linalg.inv(A.T @ G @ A) @ (A.T @ G @ b + f)\n",
    "\n",
    "print('Temperatures at the different nodes obtained with the differential-algebraic equations of the thermal circuit :')\n",
    "print(np.array_str(yss, precision=3, suppress_small=True))\n",
    "print('\\n Temperatures at the different nodes obtained with the state space:')\n",
    "print(np.array_str(ytc, precision=3, suppress_small=True))\n",
    "print(f'\\n Max error in steady-state between thermal circuit and state-space:\\{max(abs(yss - ytc)):.2e}')"
   ]
  },
  {
   "cell_type": "markdown",
   "id": "39aa03c9",
   "metadata": {},
   "source": [
    "- Results for kp=1e6"
   ]
  },
  {
   "cell_type": "code",
   "execution_count": 33,
   "id": "e68297c0",
   "metadata": {},
   "outputs": [
    {
     "name": "stdout",
     "output_type": "stream",
     "text": [
      "Temperatures at the different nodes obtained with the differential-algebraic equations of the thermal circuit :\n",
      "[22.    18.757  5.276  5.523  5.771 13.545 20.097 20.126 20.154 21.038\n",
      "  3.617  3.582 20.779 21.05  20.531 20.378  8.911  9.008  5.245  5.445\n",
      "  5.645 11.926 20.842 20.378 21.32  21.922 22.    21.321 20.226  9.104\n",
      " 18.207 19.915]\n",
      "\n",
      " Temperatures at the different nodes obtained with the state space:\n",
      "[22.    18.757  5.276  5.523  5.771 13.545 20.097 20.126 20.154 21.038\n",
      "  3.617  3.582 20.779 21.05  20.531 20.378  8.911  9.008  5.245  5.445\n",
      "  5.645 11.926 20.842 20.378 21.32  21.922 22.    21.321 20.226  9.104\n",
      " 18.207 19.915]\n",
      "\n",
      " Max error in steady-state between thermal circuit and state-space:\\8.17e-14\n"
     ]
    }
   ],
   "source": [
    "Kp=1e6\n",
    "Gdiag=[Gab ,Gb ,Gb ,Gi ,Gi ,Gabc,Gbc,Gbc,Gic,Gic,Gav,Gv,Gva,Gap,Gp,Gp,Gaplaco ,Gplaco ,Gplaco ,Gav,Gv,Gv,Gab2,Gb2,Gb2,Gi2,Gi2,Gap,Gp,Gp,Gia, Giac, Gva,Gpa,Gplacoa, Gva,Gia2,Gpa, Kp]\n",
    "G=np.zeros((len(Gdiag),len(Gdiag)))\n",
    "\n",
    "\n",
    "for k in range(len(Gdiag)):\n",
    "     G[k,k]=Gdiag[k]\n",
    "        \n",
    "[As, Bs, Cs, Ds] = dm4bem.tc2ss(A, G, b, C, f, y)\n",
    "\n",
    "yss = (-Cs @ np.linalg.inv(As) @ Bs + Ds) @ u\n",
    "ytc = np.linalg.inv(A.T @ G @ A) @ (A.T @ G @ b + f)\n",
    "\n",
    "print('Temperatures at the different nodes obtained with the differential-algebraic equations of the thermal circuit :')\n",
    "print(np.array_str(yss, precision=3, suppress_small=True))\n",
    "print('\\n Temperatures at the different nodes obtained with the state space:')\n",
    "print(np.array_str(ytc, precision=3, suppress_small=True))\n",
    "print(f'\\n Max error in steady-state between thermal circuit and state-space:\\{max(abs(yss - ytc)):.2e}')"
   ]
  },
  {
   "cell_type": "markdown",
   "id": "a814f94b",
   "metadata": {},
   "source": [
    "1e6 is the limit for which the temperature at node 0 reaches the target temperature. \n",
    "\n",
    "- Results for kp=1e4:"
   ]
  },
  {
   "cell_type": "code",
   "execution_count": 34,
   "id": "20874f78",
   "metadata": {},
   "outputs": [
    {
     "name": "stdout",
     "output_type": "stream",
     "text": [
      "Temperatures at the different nodes obtained with the differential-algebraic equations of the thermal circuit :\n",
      "[21.984 18.744  5.276  5.523  5.77  13.537 20.097 20.125 20.153 21.03\n",
      "  3.617  3.582 20.773 21.042 20.516 20.364  8.907  9.004  5.245  5.444\n",
      "  5.644 11.919 20.827 20.364 21.304 21.907 21.984 21.311 20.211  9.1\n",
      " 18.195 19.901]\n",
      "\n",
      " Temperatures at the different nodes obtained with the state space:\n",
      "[21.984 18.744  5.276  5.523  5.77  13.537 20.097 20.125 20.153 21.03\n",
      "  3.617  3.582 20.773 21.042 20.516 20.364  8.907  9.004  5.245  5.444\n",
      "  5.644 11.919 20.827 20.364 21.304 21.907 21.984 21.311 20.211  9.1\n",
      " 18.195 19.901]\n",
      "\n",
      " Max error in steady-state between thermal circuit and state-space:\\9.41e-14\n"
     ]
    }
   ],
   "source": [
    "Kp=1e4\n",
    "Gdiag=[Gab ,Gb ,Gb ,Gi ,Gi ,Gabc,Gbc,Gbc,Gic,Gic,Gav,Gv,Gva,Gap,Gp,Gp,Gaplaco ,Gplaco ,Gplaco ,Gav,Gv,Gv,Gab2,Gb2,Gb2,Gi2,Gi2,Gap,Gp,Gp,Gia, Giac, Gva,Gpa,Gplacoa, Gva,Gia2,Gpa, Kp]\n",
    "G=np.zeros((len(Gdiag),len(Gdiag)))\n",
    "\n",
    "\n",
    "for k in range(len(Gdiag)):\n",
    "     G[k,k]=Gdiag[k]\n",
    "        \n",
    "[As, Bs, Cs, Ds] = dm4bem.tc2ss(A, G, b, C, f, y)\n",
    "\n",
    "yss = (-Cs @ np.linalg.inv(As) @ Bs + Ds) @ u\n",
    "ytc = np.linalg.inv(A.T @ G @ A) @ (A.T @ G @ b + f)\n",
    "\n",
    "print('Temperatures at the different nodes obtained with the differential-algebraic equations of the thermal circuit :')\n",
    "print(np.array_str(yss, precision=3, suppress_small=True))\n",
    "print('\\n Temperatures at the different nodes obtained with the state space:')\n",
    "print(np.array_str(ytc, precision=3, suppress_small=True))\n",
    "print(f'\\n Max error in steady-state between thermal circuit and state-space:\\{max(abs(yss - ytc)):.2e}')"
   ]
  },
  {
   "cell_type": "markdown",
   "id": "617e7646",
   "metadata": {},
   "source": [
    "This value of Kp is the one that will be kept for the following analyses. Indeed, the difference at the target temperature remains minimal (we reach 21.984°C, which is satisfactory), and we limit the value of the gain.\n",
    " At node 1 (bathroom), the temperature reached is 18.7°C\n",
    "\n",
    "\n",
    "We also note the very small difference between the two models in all the different cases.\n",
    "\n",
    "\n",
    "## 6) Dynamic Model\n",
    "\n",
    "### Implementation in Python\n",
    "\n",
    "We implemente the dynamic model as following : \n",
    "\n",
    "\n",
    "### DYNAMIC \n",
    "\n",
    "\n",
    "\n",
    "\n",
    "### Results\n"
   ]
  },
  {
   "cell_type": "code",
   "execution_count": 16,
   "id": "2540bd6a",
   "metadata": {},
   "outputs": [
    {
     "data": {
      "image/png": "[encoded data removed]",
      "text/plain": [
       "<Figure size 432x288 with 1 Axes>"
      ]
     },
     "metadata": {
      "needs_background": "light"
     },
     "output_type": "display_data"
    }
   ],
   "source": [
    "#we build a new vector y, which allows to isolate only the temperature at one node\n",
    "y = np.zeros(32)\n",
    "node_wanted = 1\n",
    "y[node_wanted] = 1\n",
    "# then we must recalculate the matrixes of the state space system, as they depend on y\n",
    "[As, Bs, Cs, Ds] = dm4bem.tc2ss(A, G, b, C, f, y)\n",
    "\n",
    "\n",
    "dtmax = min(-2. / np.linalg.eig(As)[0])  # we obtain dtmax=1453.9\n",
    "dt = 1000 # we take dt<dtmax\n",
    "duration = 3600 * 24 * 5 \n",
    "n = int(np.floor(duration / dt))\n",
    "t = np.arange(0, n * dt, dt)    # time\n",
    "n_tC = As.shape[0]              # no of state variables \n",
    "\n",
    "u = np.ones([15, n])\n",
    "u[0:1, :] = Text*np.ones([1, n])\n",
    "u[1:2, :] = Tcouloir*np.ones([1, n])\n",
    "u[2:3, :] = Text*np.ones([1, n])\n",
    "u[3:4, :] = Tcouloir*np.ones([1, n])\n",
    "u[4:5, :] = Text*np.ones([1, n])\n",
    "u[5:6, :] = Text*np.ones([1, n])\n",
    "u[6:7, :] = Tcible*np.ones([1, n])\n",
    "\n",
    "temp_exp = np.zeros([n_tC, t.shape[0]]) #Euler forward \n",
    "temp_imp = np.zeros([n_tC, t.shape[0]]) #Euler backward\n",
    "\n",
    "I = np.eye(n_tC)\n",
    "for k in range(n - 1):\n",
    "    temp_exp[:, k + 1] = (I + dt * As) @\\\n",
    "        temp_exp[:, k] + dt * Bs @ u[:, k]\n",
    "    temp_imp[:, k + 1] = np.linalg.inv(I - dt * As) @\\\n",
    "        (temp_imp[:, k] + dt * Bs @ u[:, k])\n",
    "\n",
    "y_exp = Cs @ temp_exp + Ds @  u\n",
    "y_imp = Cs @ temp_imp + Ds @  u\n",
    "\n",
    "\n",
    "fig, ax = plt.subplots()\n",
    "ax.plot(t / 3600, y_exp.T, t / 3600, y_imp.T)\n",
    "ax.set(xlabel='Time [h]',\n",
    "        ylabel='$T_i$ [°C]',\n",
    "        title='Step input: Text = 5°C and Tcouloir=20°C')\n",
    "plt.show()\n",
    "\n"
   ]
  },
  {
   "cell_type": "markdown",
   "id": "58831057",
   "metadata": {},
   "source": [
    "### Results\n",
    "\n",
    "The following graph shows the evolution of the temperature at node 0 (main room): \n",
    "\n",
    "<img src=\"dynamic.png\" width=\"500\">\n",
    "\n",
    "We arrive at the target temperature of 22°C (with the same deviation as observed earlier, due to the limitation of the value of Kp to 1e4)\n",
    "There is very little difference between the solution with implicit Euler and the one with explicit Euler (the two curves are almost superimposed). \n",
    "\n",
    "The following graph shows the evolution of the temperature at node 1 (bathroom): it stabilises at 18.3°C. \n",
    "\n",
    "<img src=\"dynamic_N1.png\" width=\"500\">\n",
    "\n",
    "## 7) Response to weather data\n",
    "\n",
    "### Implementation in Python\n",
    "\n",
    "We implement a last version of the model, taking into account the variations of the weather. \n",
    "\n",
    "### Results\n",
    "\n",
    "Here are the curves be obtained : \n",
    "\n",
    "<img src=\"weather.png\" width=\"700\">\n",
    "\n",
    "There must be a problem with the code, as the curves of indoor and outdoor temperatures should not be the same. \n",
    "\n",
    "\n",
    "\n",
    "## 8) Conclusion : optimization \n",
    "\n",
    "As a conclusion, we can say that this lab allowed us to understand and practise the thermal modeling of buildings. The model we built, however, isn’t perfect. We could have optimized it by adding a second controller in the bathroom, with a second targeted temperature. It would also have been interesting to compare with other materials and thicknesses. \n",
    "\n"
   ]
  }
 ],
 "metadata": {
  "kernelspec": {
   "display_name": "Python 3 (ipykernel)",
   "language": "python",
   "name": "python3"
  },
  "language_info": {
   "codemirror_mode": {
    "name": "ipython",
    "version": 3
   },
   "file_extension": ".py",
   "mimetype": "text/x-python",
   "name": "python",
   "nbconvert_exporter": "python",
   "pygments_lexer": "ipython3",
   "version": "3.9.12"
  }
 },
 "nbformat": 4,
 "nbformat_minor": 5
}
