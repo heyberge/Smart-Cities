{
 "cells": [
  {
   "cell_type": "markdown",
   "id": "ae5be397-9849-453c-9419-6f3d8631d73c",
   "metadata": {},
   "source": [
    "# Assembling thermal circuits\n",
    "\n",
    "Objectives:\n",
    "* Assemble complex circuits.\n",
    "* Simulate the assembled circuits."
   ]
  }}
